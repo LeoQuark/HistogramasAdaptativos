{
 "cells": [
  {
   "cell_type": "code",
   "execution_count": 2,
   "metadata": {},
   "outputs": [
    {
     "name": "stdout",
     "output_type": "stream",
     "text": [
      "Note: you may need to restart the kernel to use updated packages.\n"
     ]
    },
    {
     "name": "stderr",
     "output_type": "stream",
     "text": [
      "ERROR: Could not find a version that satisfies the requirement timeit (from versions: none)\n",
      "ERROR: No matching distribution found for timeit\n"
     ]
    }
   ],
   "source": [
    "\n",
    "pip install timeit"
   ]
  },
  {
   "cell_type": "code",
   "execution_count": 1,
   "metadata": {
    "colab": {
     "base_uri": "https://localhost:8080/"
    },
    "executionInfo": {
     "elapsed": 2375,
     "status": "ok",
     "timestamp": 1666402823820,
     "user": {
      "displayName": "Leonardo Peña Fuentes",
      "userId": "17673853898068524362"
     },
     "user_tz": 180
    },
    "id": "hHEhsdLgdsGD",
    "outputId": "1b951ca8-5c1e-4f94-f6a6-de449435731e"
   },
   "outputs": [
    {
     "name": "stdout",
     "output_type": "stream",
     "text": [
      "numpy \t--> version 1.22.4\n",
      "pyarrow --> version 9.0.0\n",
      "plotly \t--> version 5.10.0\n",
      "astropy --> version 5.1\n"
     ]
    }
   ],
   "source": [
    "import numpy as np\n",
    "import pyarrow.parquet as pq\n",
    "import plotly.graph_objects as go\n",
    "import matplotlib.pylab as plt\n",
    "from astropy.time import Time\n",
    "from timeit import default_timer\n",
    "\n",
    "# print(f\"{np.__name__} --> version {np.__version__}\")\n",
    "# print(f\"{pa.__name__} --> version {pa.__version__}\")\n",
    "!python -c \"import numpy as xx; print(f'{xx.__name__} \\t--> version {xx.__version__}')\"\n",
    "!python -c \"import pyarrow as xx; print(f'{xx.__name__} --> version {xx.__version__}')\"\n",
    "!python -c \"import plotly as xx; print(f'{xx.__name__} \\t--> version {xx.__version__}')\"\n",
    "!python -c \"import astropy as xx; print(f'{xx.__name__} --> version {xx.__version__}')\"\n"
   ]
  },
  {
   "cell_type": "code",
   "execution_count": 2,
   "metadata": {
    "colab": {
     "base_uri": "https://localhost:8080/"
    },
    "executionInfo": {
     "elapsed": 19981,
     "status": "ok",
     "timestamp": 1666402851437,
     "user": {
      "displayName": "Leonardo Peña Fuentes",
      "userId": "17673853898068524362"
     },
     "user_tz": 180
    },
    "id": "ktsl8OcIhP0m",
    "outputId": "afa75147-741f-4423-becf-d7fca86fca01"
   },
   "outputs": [
    {
     "ename": "ModuleNotFoundError",
     "evalue": "No module named 'google.colab'",
     "output_type": "error",
     "traceback": [
      "\u001b[1;31m---------------------------------------------------------------------------\u001b[0m",
      "\u001b[1;31mModuleNotFoundError\u001b[0m                       Traceback (most recent call last)",
      "\u001b[1;32mc:\\Users\\Leonardo Peña\\Documents\\Github\\HistogramasAdaptativos\\Light curve with function.ipynb Celda 3\u001b[0m in \u001b[0;36m<cell line: 1>\u001b[1;34m()\u001b[0m\n\u001b[1;32m----> <a href='vscode-notebook-cell:/c%3A/Users/Leonardo%20Pe%C3%B1a/Documents/Github/HistogramasAdaptativos/Light%20curve%20with%20function.ipynb#W2sZmlsZQ%3D%3D?line=0'>1</a>\u001b[0m \u001b[39mfrom\u001b[39;00m \u001b[39mgoogle\u001b[39;00m\u001b[39m.\u001b[39;00m\u001b[39mcolab\u001b[39;00m \u001b[39mimport\u001b[39;00m drive\n\u001b[0;32m      <a href='vscode-notebook-cell:/c%3A/Users/Leonardo%20Pe%C3%B1a/Documents/Github/HistogramasAdaptativos/Light%20curve%20with%20function.ipynb#W2sZmlsZQ%3D%3D?line=1'>2</a>\u001b[0m drive\u001b[39m.\u001b[39mmount(\u001b[39m'\u001b[39m\u001b[39m/content/drive\u001b[39m\u001b[39m'\u001b[39m)\n\u001b[0;32m      <a href='vscode-notebook-cell:/c%3A/Users/Leonardo%20Pe%C3%B1a/Documents/Github/HistogramasAdaptativos/Light%20curve%20with%20function.ipynb#W2sZmlsZQ%3D%3D?line=2'>3</a>\u001b[0m get_ipython()\u001b[39m.\u001b[39mrun_line_magic(\u001b[39m'\u001b[39m\u001b[39mcd\u001b[39m\u001b[39m'\u001b[39m, \u001b[39m'\u001b[39m\u001b[39m/content/drive/MyDrive/Universidad/Trabajo de Titulo/Modelos ML curvas de luz\u001b[39m\u001b[39m'\u001b[39m)\n",
      "\u001b[1;31mModuleNotFoundError\u001b[0m: No module named 'google.colab'"
     ]
    }
   ],
   "source": [
    "from google.colab import drive\n",
    "drive.mount('/content/drive')\n",
    "%cd /content/drive/MyDrive/Universidad/Trabajo de Titulo/Modelos ML curvas de luz\n",
    "\n",
    "# %cd /content/drive/MyDrive/Universidad/Trabajo de Titulo/Modelos ML curvas de luz#Aca va tu ruta del archivo en tu drive"
   ]
  },
  {
   "cell_type": "code",
   "execution_count": 3,
   "metadata": {
    "colab": {
     "base_uri": "https://localhost:8080/"
    },
    "executionInfo": {
     "elapsed": 545,
     "status": "ok",
     "timestamp": 1666402945378,
     "user": {
      "displayName": "Leonardo Peña Fuentes",
      "userId": "17673853898068524362"
     },
     "user_tz": 180
    },
    "id": "k8aUNkpmeBm_",
    "outputId": "65daf0df-7eda-4565-c5e8-9f7fda286369"
   },
   "outputs": [
    {
     "name": "stdout",
     "output_type": "stream",
     "text": [
      "numero de columnas: 113\n",
      "numero de filas (datos):  13844917\n"
     ]
    }
   ],
   "source": [
    "parquet_file = pq.ParquetFile('../lightcurves_ts.parquet')\n",
    "# parquet_file.schema_arrow.names # obtienes nombre columnas\n",
    "# parquet_file.metadata.num_rows # numero de filas\n",
    "# parquet_file.metadata.num_columns # nummero de columnas \n",
    "\n",
    "print(\"numero de columnas:\", parquet_file.metadata.num_columns)\n",
    "print(\"numero de filas (datos): \", parquet_file.metadata.num_rows)"
   ]
  },
  {
   "cell_type": "code",
   "execution_count": 4,
   "metadata": {
    "executionInfo": {
     "elapsed": 4586,
     "status": "ok",
     "timestamp": 1666402996046,
     "user": {
      "displayName": "Leonardo Peña Fuentes",
      "userId": "17673853898068524362"
     },
     "user_tz": 180
    },
    "id": "_ai_zMDwimgj"
   },
   "outputs": [],
   "source": [
    "# Descipcion de las columnas\n",
    "# oid -- object id\n",
    "# fid -- filter id, filtro o banda utilizada (verde,rojo,azul,etc)\n",
    "# mjd -- medida de tiempo continua (Modified Julian date / Calendario Juliano Modificado)\n",
    "# magpsf_corr -- magnitud psf correjida / posicion en el espacio, es el promedio de los pixeles de una deteccion\n",
    "# sigmapsf_corr -- variacion de los pixeles de una deteccion\n",
    "# nbad -- numero de bandas\n",
    "# classALeRCE - clasificación que realiza ALeRCE en base a los parametros obtenidos (152 aprox) con el random forest de 2 niveles\n",
    "\n",
    "# se divide el paquete en grupos --> se ocupa el primer grupo 0\n",
    "data = parquet_file.read_row_group(0, ['oid', 'fid', 'mjd', 'magpsf_corr', 'sigmapsf_corr', 'nbad', 'classALeRCE']).to_pandas()\n",
    "# data.shape\n",
    "# data.head(50)"
   ]
  },
  {
   "cell_type": "code",
   "execution_count": 5,
   "metadata": {
    "colab": {
     "base_uri": "https://localhost:8080/",
     "height": 206
    },
    "executionInfo": {
     "elapsed": 212,
     "status": "ok",
     "timestamp": 1666403000313,
     "user": {
      "displayName": "Leonardo Peña Fuentes",
      "userId": "17673853898068524362"
     },
     "user_tz": 180
    },
    "id": "bFuaHsPAW3vm",
    "outputId": "abd9fd0b-05c0-4b04-a267-a9f5c89897e5"
   },
   "outputs": [
    {
     "data": {
      "text/html": [
       "<div>\n",
       "<style scoped>\n",
       "    .dataframe tbody tr th:only-of-type {\n",
       "        vertical-align: middle;\n",
       "    }\n",
       "\n",
       "    .dataframe tbody tr th {\n",
       "        vertical-align: top;\n",
       "    }\n",
       "\n",
       "    .dataframe thead th {\n",
       "        text-align: right;\n",
       "    }\n",
       "</style>\n",
       "<table border=\"1\" class=\"dataframe\">\n",
       "  <thead>\n",
       "    <tr style=\"text-align: right;\">\n",
       "      <th></th>\n",
       "      <th>oid</th>\n",
       "      <th>fid</th>\n",
       "      <th>mjd</th>\n",
       "      <th>magpsf_corr</th>\n",
       "      <th>sigmapsf_corr</th>\n",
       "      <th>nbad</th>\n",
       "      <th>classALeRCE</th>\n",
       "    </tr>\n",
       "  </thead>\n",
       "  <tbody>\n",
       "    <tr>\n",
       "      <th>0</th>\n",
       "      <td>ZTF17aaacfxu</td>\n",
       "      <td>1</td>\n",
       "      <td>58863.138021</td>\n",
       "      <td>20.996371</td>\n",
       "      <td>0.444790</td>\n",
       "      <td>0</td>\n",
       "      <td>RRL</td>\n",
       "    </tr>\n",
       "    <tr>\n",
       "      <th>1</th>\n",
       "      <td>ZTF17aaacfxu</td>\n",
       "      <td>1</td>\n",
       "      <td>58867.179803</td>\n",
       "      <td>19.374605</td>\n",
       "      <td>0.175861</td>\n",
       "      <td>0</td>\n",
       "      <td>RRL</td>\n",
       "    </tr>\n",
       "    <tr>\n",
       "      <th>2</th>\n",
       "      <td>ZTF17aaacfxu</td>\n",
       "      <td>1</td>\n",
       "      <td>58871.170336</td>\n",
       "      <td>19.630466</td>\n",
       "      <td>0.123111</td>\n",
       "      <td>0</td>\n",
       "      <td>RRL</td>\n",
       "    </tr>\n",
       "    <tr>\n",
       "      <th>3</th>\n",
       "      <td>ZTF17aaacfxu</td>\n",
       "      <td>1</td>\n",
       "      <td>58880.146204</td>\n",
       "      <td>19.362001</td>\n",
       "      <td>0.103466</td>\n",
       "      <td>0</td>\n",
       "      <td>RRL</td>\n",
       "    </tr>\n",
       "    <tr>\n",
       "      <th>4</th>\n",
       "      <td>ZTF17aaacfxu</td>\n",
       "      <td>1</td>\n",
       "      <td>58849.131389</td>\n",
       "      <td>19.530453</td>\n",
       "      <td>0.078387</td>\n",
       "      <td>0</td>\n",
       "      <td>RRL</td>\n",
       "    </tr>\n",
       "  </tbody>\n",
       "</table>\n",
       "</div>"
      ],
      "text/plain": [
       "            oid  fid           mjd  magpsf_corr  sigmapsf_corr  nbad  \\\n",
       "0  ZTF17aaacfxu    1  58863.138021    20.996371       0.444790     0   \n",
       "1  ZTF17aaacfxu    1  58867.179803    19.374605       0.175861     0   \n",
       "2  ZTF17aaacfxu    1  58871.170336    19.630466       0.123111     0   \n",
       "3  ZTF17aaacfxu    1  58880.146204    19.362001       0.103466     0   \n",
       "4  ZTF17aaacfxu    1  58849.131389    19.530453       0.078387     0   \n",
       "\n",
       "  classALeRCE  \n",
       "0         RRL  \n",
       "1         RRL  \n",
       "2         RRL  \n",
       "3         RRL  \n",
       "4         RRL  "
      ]
     },
     "execution_count": 5,
     "metadata": {},
     "output_type": "execute_result"
    }
   ],
   "source": [
    "data.shape\n",
    "data.head()"
   ]
  },
  {
   "cell_type": "code",
   "execution_count": 6,
   "metadata": {
    "colab": {
     "base_uri": "https://localhost:8080/"
    },
    "executionInfo": {
     "elapsed": 2497,
     "status": "ok",
     "timestamp": 1666403041100,
     "user": {
      "displayName": "Leonardo Peña Fuentes",
      "userId": "17673853898068524362"
     },
     "user_tz": 180
    },
    "id": "VEibj7Ele09j",
    "outputId": "ee26bfaf-d4c7-40c7-d956-a9e457f63d86"
   },
   "outputs": [
    {
     "name": "stdout",
     "output_type": "stream",
     "text": [
      "eventos totales (173693,)\n"
     ]
    }
   ],
   "source": [
    "# muestra los eventos unicos, sin repeticiones\n",
    "all_event = data.oid.unique()\n",
    "# all_event\n",
    "\n",
    "print('eventos totales',all_event.shape)"
   ]
  },
  {
   "cell_type": "code",
   "execution_count": 8,
   "metadata": {
    "colab": {
     "base_uri": "https://localhost:8080/"
    },
    "executionInfo": {
     "elapsed": 2692,
     "status": "ok",
     "timestamp": 1666037172107,
     "user": {
      "displayName": "Leonardo Peña Fuentes",
      "userId": "17673853898068524362"
     },
     "user_tz": 180
    },
    "id": "6dd7StMp5b27",
    "outputId": "8d461d77-808f-440b-9683-fedde509f42c"
   },
   "outputs": [
    {
     "data": {
      "text/plain": [
       "array(['ZTF17aaacfxu', 'ZTF17aaaczwj', 'ZTF17aaaemke', ...,\n",
       "       'ZTF20abgdwuf', 'ZTF20abhagts', 'ZTF20abiqqow'], dtype=object)"
      ]
     },
     "execution_count": 8,
     "metadata": {},
     "output_type": "execute_result"
    }
   ],
   "source": [
    "data.oid.unique()"
   ]
  },
  {
   "cell_type": "code",
   "execution_count": 34,
   "metadata": {
    "executionInfo": {
     "elapsed": 203,
     "status": "ok",
     "timestamp": 1666403046197,
     "user": {
      "displayName": "Leonardo Peña Fuentes",
      "userId": "17673853898068524362"
     },
     "user_tz": 180
    },
    "id": "C7A3ayk8tyXr"
   },
   "outputs": [],
   "source": [
    "def getStatistic(index,indBin,magnitud, amount_bins):\n",
    "    #Analisis en base a la magnitud\n",
    "    mag_ordered = magnitud[index]\n",
    "\n",
    "    #Obtención de vectores con caracteristicas estadisticas\n",
    "    vector_mean = np.array([np.nanmean(\n",
    "        mag_ordered[indBin==(i+1)])  if (indBin==(i+1)).sum()>0 else -1000  for i in range(amount_bins)])\n",
    "    \n",
    "    vector_max = np.array([np.nanmax(\n",
    "        mag_ordered[indBin==(i+1)])  if (indBin==(i+1)).sum()>0 else -1000 for i in range(amount_bins)])\n",
    "    \n",
    "    vector_min = np.array([np.nanmin(\n",
    "        mag_ordered[indBin==(i+1)])  if (indBin==(i+1)).sum()>0 else -1000 for i in range(amount_bins)])\n",
    "    \n",
    "    vector_std = np.array([np.nanstd(\n",
    "        mag_ordered[indBin==(i+1)])  if (indBin==(i+1)).sum()>0 else -1000 for i in range(amount_bins)])\n",
    "\n",
    "    return [vector_mean,vector_max,vector_min,vector_std]\n",
    "\n",
    "\n",
    "def drawGraphic(bins,time,mag,indice,period):\n",
    "    title_figure = f'Folded Time Serie with period T/{period}'\n",
    "    #Grafico para ver la serie de tiempo \n",
    "    plt.figure(figsize=(12,4))\n",
    "    plt.plot(time[indice], mag[indice])\n",
    "    plt.scatter(time[indice], mag[indice])\n",
    "    plt.ylabel(\"Magnitud\")\n",
    "    plt.xlabel(\"Time\")\n",
    "    plt.suptitle(title_figure, fontsize=22)\n",
    "    plt.grid(axis='x', color='red', linestyle='-', linewidth=2)\n",
    "    \n",
    "    for bin in bins:\n",
    "        plt.axvline(x=bin,color='red')\n",
    "\n",
    "    # plt.grid(axis='y', color='gray', linestyle='dashed')\n",
    "    plt.show()\n",
    "\n",
    "\n",
    "def variantion_period_v2(array_periods,ts_time, ts_mag, amount_bins=10):\n",
    "    \n",
    "    tensor_data = []\n",
    "\n",
    "    for index, period in enumerate(array_periods):\n",
    "\n",
    "        #valor del periodo en decimales\n",
    "        period_float = 1 / period\n",
    "\n",
    "        #proceso de folding\n",
    "        folded_time = ts_time % period_float\n",
    "\n",
    "        #indices de los datos para encontrarlos luego del folding\n",
    "        index_folded = np.argsort(folded_time)\n",
    "\n",
    "        #Divido el periodo en bins o intervalos [0,n] para luego obtener datos estadisticos de cada bin\n",
    "        bins = np.linspace(0,period_float,amount_bins+1)\n",
    "\n",
    "        #Concentración de datos en cada bin\n",
    "        concentration, bin_edges= np.histogram(folded_time[index_folded],bins=bins)\n",
    "        \n",
    "        #indices - Devuelve los índices de los bins a los que pertenece cada valor del folded_time\n",
    "        index_bin = np.digitize(folded_time[index_folded],bins=bins)\n",
    "\n",
    "        # print(\"bins: \",bins)\n",
    "        # print(\"concentracion de datos en cada bin: \",concentration)\n",
    "\n",
    "        #Visualizar grafico de cada variación del periodo\n",
    "        # drawGraphic(bins,folded_time,ts_mag,index_folded,period)\n",
    "    \n",
    "        #Obtención de datos estadisticos de cada bin y formación del tensor\n",
    "        vectorStatisticPeriod = np.asmatrix(getStatistic(index_folded,index_bin,ts_mag,amount_bins))\n",
    "        tensor_data.append(vectorStatisticPeriod)\n",
    "\n",
    "    return tensor_data\n",
    "\n",
    "\n",
    "# funcion para graficar la serie de tiempo con link al sitio web de ALeRCE del evento\n",
    "def GraphicLightCurve(fig,band,light_curve,show):\n",
    "    mtcolor = [['g','green'],['r','red'],['b','blue']]\n",
    "    idx=(light_curve['fid']==band).values\n",
    "    fig.add_trace(\n",
    "            go.Scatter(\n",
    "                x = light_curve.mjd.values[idx],\n",
    "                y = light_curve.magpsf_corr.values[idx],\n",
    "                mode = 'markers', name=mtcolor[band-1][0],\n",
    "                marker_color = mtcolor[band-1][1],\n",
    "                error_y = dict(type='data', array=light_curve.sigmapsf_corr.values[idx], visible=True),\n",
    "                marker = dict(size=10, opacity=0.5, showscale=False, line=dict(width=1)), \n",
    "                showlegend = True,\n",
    "                legendgroup = mtcolor[band-1][0],\n",
    "                hovertemplate ='<b>' + mtcolor[band-1][0] + ':\\t\\t</b>' + light_curve.magpsf_corr[idx].map('{:.3f}'.format).apply(str) + ' ± ' +\n",
    "                                light_curve.sigmapsf_corr[idx].map('{:.3f}'.format).apply(str)  + '<br>' + \n",
    "                                '<b>MJD:\\t</b>'+ light_curve.mjd[idx].apply(str)  + '<br>' + \n",
    "                                '<b>Date:\\t</b>'+ [temp.strftime('%a, %d %b %Y %H:%M:%S UTC') for temp in Time(light_curve.mjd[idx].values, format='mjd').datetime]+ '<br>' +\n",
    "                                '<extra></extra>'\n",
    "                ))\n",
    "    # fig['layout']['yaxis']['autorange'] = \"reversed\"\n",
    "    fig.update_xaxes(\n",
    "        tickangle=0,\n",
    "        title_text=\"Modified Julian Dates [MJD]\",\n",
    "        title_font={\"size\": 14})\n",
    "    \n",
    "    fig.update_yaxes(\n",
    "        autorange= 'reversed',\n",
    "        tickangle=0,\n",
    "        title_text=\"Magnitude [Mag]\",\n",
    "        title_font={\"size\": 14})\n",
    "    \n",
    "    fig.update_layout(\n",
    "        title={'text':'<b>Light Curve</b>' + '<br>' +\n",
    "                        '<a href=\"https://alerce.online/object/'+ event + '\">Object: ' + event + 'text</a>',\n",
    "                'font':dict(size=14),'x':0.5, 'y':0.9,'xanchor': 'center','yanchor': 'top'})\n",
    "    \n",
    "    if_show_fig = lambda show: fig.show() if show == True else False\n",
    "    if_show_fig(show)\n",
    "\n",
    "\n",
    "     "
   ]
  },
  {
   "cell_type": "code",
   "execution_count": 11,
   "metadata": {
    "colab": {
     "base_uri": "https://localhost:8080/"
    },
    "executionInfo": {
     "elapsed": 204,
     "status": "ok",
     "timestamp": 1666403131925,
     "user": {
      "displayName": "Leonardo Peña Fuentes",
      "userId": "17673853898068524362"
     },
     "user_tz": 180
    },
    "id": "5uG0gXk1lhfN",
    "outputId": "981c3a51-2925-4969-a0fe-42077b5a8f7f"
   },
   "outputs": [
    {
     "name": "stdout",
     "output_type": "stream",
     "text": [
      "Variable               Type                          Data/Info\n",
      "--------------------------------------------------------------\n",
      "GraphicLightCurve      function                      <function GraphicLightCurve at 0x7f23a93a8680>\n",
      "Time                   ABCMeta                       <class 'astropy.time.core.Time'>\n",
      "all_event              ndarray                       173693: 173693 elems, type `object`, 1389544 bytes (1.3251724243164062 Mb)\n",
      "data                   DataFrame                                        oid  f<...>3844917 rows x 7 columns]\n",
      "default_timer          builtin_function_or_method    <built-in function perf_counter>\n",
      "drawGraphic            function                      <function drawGraphic at 0x7f23a93a8320>\n",
      "drive                  module                        <module 'google.colab.dri<...>s/google/colab/drive.py'>\n",
      "getStatistic           function                      <function getStatistic at 0x7f23a93a8200>\n",
      "go                     module                        <module 'plotly.graph_obj<...>aph_objects/__init__.py'>\n",
      "np                     module                        <module 'numpy' from '/us<...>kages/numpy/__init__.py'>\n",
      "parquet_file           ParquetFile                   <pyarrow.parquet.ParquetF<...>object at 0x7f24b506a850>\n",
      "plt                    module                        <module 'matplotlib.pylab<...>ges/matplotlib/pylab.py'>\n",
      "pq                     module                        <module 'pyarrow.parquet'<...>ages/pyarrow/parquet.py'>\n",
      "variantion_period_v2   function                      <function variantion_period_v2 at 0x7f23a93a8440>\n"
     ]
    }
   ],
   "source": [
    "whos"
   ]
  },
  {
   "cell_type": "code",
   "execution_count": 35,
   "metadata": {
    "colab": {
     "base_uri": "https://localhost:8080/"
    },
    "executionInfo": {
     "elapsed": 332,
     "status": "ok",
     "timestamp": 1666408145684,
     "user": {
      "displayName": "Leonardo Peña Fuentes",
      "userId": "17673853898068524362"
     },
     "user_tz": 180
    },
    "id": "OkSCSenKXh-c",
    "outputId": "3a3bdd71-6af3-4c77-9af9-bf0eb006a929"
   },
   "outputs": [
    {
     "name": "stdout",
     "output_type": "stream",
     "text": [
      "Arreglo de periodos: [1 2 4 8]\n"
     ]
    }
   ],
   "source": [
    "# parametros iniciales \n",
    "num_periods = 4\n",
    "nbines = 10\n",
    "array_periods = 2**(np.arange(num_periods)+0)\n",
    "print(f'Arreglo de periodos: {array_periods}')\n",
    "\n",
    "# cantidad de eventos a analizar \n",
    "limit = 5\n",
    "\n",
    "# arreglo que contiene el tiempo de ejecucion de cada evento, posteriormente se obtendra el promedio\n",
    "all_time_event = []"
   ]
  },
  {
   "cell_type": "code",
   "execution_count": null,
   "metadata": {
    "colab": {
     "base_uri": "https://localhost:8080/"
    },
    "executionInfo": {
     "elapsed": 4876,
     "status": "ok",
     "timestamp": 1666408154110,
     "user": {
      "displayName": "Leonardo Peña Fuentes",
      "userId": "17673853898068524362"
     },
     "user_tz": 180
    },
    "id": "Bjhjh77te-Md",
    "outputId": "228ee4e3-b64f-423b-8f0e-b8d754074575"
   },
   "outputs": [],
   "source": [
    "# tiempo de ejecucion del algoritmo \n",
    "start_analyze = default_timer()\n",
    "\n",
    "# all_data = []\n",
    "\n",
    "for index, event in enumerate(all_event):\n",
    "  # inicio - tiempo de ejecucion del analisis de cada evento\n",
    "  start_time_event = default_timer()\n",
    "  print(f'n:{index} - oid:{event}')\n",
    "\n",
    "  # extrae todas las magnitudes asociadas al evento y las ordena por tiempo (mjd)\n",
    "  light_curve = data.loc[data['oid'] == event].sort_values(by=['mjd'])\n",
    "  \n",
    "\n",
    "  # indices asociados a la banda 1 \n",
    "  idx_banda = light_curve['fid'] == 1\n",
    "  # light_curve['fid'].head()\n",
    "  print(light_curve['fid'])\n",
    "  tiempoNormalizado = (light_curve.mjd.values - light_curve.mjd.values.min())/(light_curve.mjd.values.max()- light_curve.mjd.values.min())\n",
    "  print('tiempoNormalizado',len(tiempoNormalizado))\n",
    "  tensor = np.array(variantion_period_v2(array_periods, tiempoNormalizado[idx_banda], light_curve.magpsf_corr[idx_banda].values, nbines))\n",
    "\n",
    "  # print(f'Tensor {index}: \\n{tensor}')\n",
    "  fig = go.Figure()\n",
    "\n",
    "\n",
    "  # graficar serie de tiempo con link a sitio de ALeRCE\n",
    "  for band in light_curve['fid'].unique():\n",
    "    GraphicLightCurve(fig,band,light_curve,True)\n",
    "    \n",
    "\n",
    "  # fin\n",
    "  end_time_event = default_timer()\n",
    "  # obtener el tiempo de ejecucion\n",
    "  time_method_event = end_time_event - start_time_event\n",
    "  # agrego el tiempo de ejecicion al arreglo para obtener el promedio general\n",
    "  all_time_event.append(time_method_event)\n",
    "  # print(f'tiempo de ejecucion por evento: {time_method_event}')\n",
    "  print('-'*100)\n",
    "\n",
    "  if (index == limit - 1):\n",
    "    break\n",
    "\n",
    "\n",
    "end_analyze = default_timer()\n",
    "time_method_analyze = end_analyze - start_analyze\n",
    "print('-'*100)\n",
    "print(f'tiempo de ejecucion total: {time_method_analyze}')\n",
    "print(f'promedio de tiempo de ejecucion por evento',np.mean(all_time_event))\n",
    "print('-'*100)\n",
    "\n"
   ]
  },
  {
   "cell_type": "markdown",
   "metadata": {
    "id": "ACNyDcfPtact"
   },
   "source": [
    "# Analisis con distintos filtros\n"
   ]
  },
  {
   "cell_type": "code",
   "execution_count": 58,
   "metadata": {},
   "outputs": [
    {
     "name": "stdout",
     "output_type": "stream",
     "text": [
      "Arreglo de periodos: [1 2 4 8]\n"
     ]
    }
   ],
   "source": [
    "# parametros iniciales \n",
    "num_periods = 4\n",
    "nbines = 10\n",
    "array_periods = 2**(np.arange(num_periods)+0)\n",
    "print(f'Arreglo de periodos: {array_periods}')\n",
    "\n",
    "# cantidad de eventos a analizar \n",
    "limit = 5\n",
    "\n",
    "# arreglo que contiene el tiempo de ejecucion de cada evento, posteriormente se obtendra el promedios\n",
    "all_time_event = []"
   ]
  },
  {
   "cell_type": "code",
   "execution_count": 64,
   "metadata": {
    "colab": {
     "base_uri": "https://localhost:8080/"
    },
    "executionInfo": {
     "elapsed": 12932,
     "status": "ok",
     "timestamp": 1665974612495,
     "user": {
      "displayName": "Leonardo Peña Fuentes",
      "userId": "17673853898068524362"
     },
     "user_tz": 180
    },
    "id": "bFSgeraStZhH",
    "outputId": "ac53d1d6-586a-4a1d-e033-9c869688be98"
   },
   "outputs": [
    {
     "name": "stdout",
     "output_type": "stream",
     "text": [
      "n:0 - oid:ZTF17aaacfxu\n",
      "4    1\n",
      "0    1\n",
      "1    1\n",
      "2    1\n",
      "3    1\n",
      "Name: fid, dtype: int64\n",
      "Filtro 1\n",
      "4    True\n",
      "0    True\n",
      "1    True\n",
      "2    True\n",
      "3    True\n",
      "Name: fid, dtype: bool\n",
      "5\n",
      "dimensiones (4, 4, 10)\n",
      "--------------------------------------------------\n",
      "Filtro 2\n",
      "4    False\n",
      "0    False\n",
      "1    False\n",
      "2    False\n",
      "3    False\n",
      "Name: fid, dtype: bool\n",
      "5\n",
      "dimensiones (4, 4, 10)\n",
      "--------------------------------------------------\n",
      "Filtro 3\n",
      "4    False\n",
      "0    False\n",
      "1    False\n",
      "2    False\n",
      "3    False\n",
      "Name: fid, dtype: bool\n",
      "5\n",
      "dimensiones (4, 4, 10)\n",
      "--------------------------------------------------\n",
      "dimensiones total (3, 4, 4, 10)\n",
      "tiempo de ejecucion por evento: 0.4542175999995379\n",
      "----------------------------------------------------------------------------------------------------\n",
      "n:1 - oid:ZTF17aaaczwj\n",
      "5    2\n",
      "Name: fid, dtype: int64\n",
      "Filtro 1\n",
      "5    False\n",
      "Name: fid, dtype: bool\n",
      "1\n",
      "dimensiones (4, 4, 10)\n",
      "--------------------------------------------------\n",
      "Filtro 2\n",
      "5    True\n",
      "Name: fid, dtype: bool\n",
      "1\n",
      "dimensiones (4, 4, 10)\n",
      "--------------------------------------------------\n",
      "Filtro 3\n",
      "5    False\n",
      "Name: fid, dtype: bool\n",
      "1\n",
      "dimensiones (4, 4, 10)\n",
      "--------------------------------------------------\n",
      "dimensiones total (3, 4, 4, 10)\n",
      "tiempo de ejecucion por evento: 0.47643500000049244\n",
      "----------------------------------------------------------------------------------------------------\n",
      "n:2 - oid:ZTF17aaaemke\n"
     ]
    },
    {
     "name": "stderr",
     "output_type": "stream",
     "text": [
      "C:\\Users\\Leonardo Peña\\AppData\\Local\\Temp\\ipykernel_12020\\2867386254.py:37: RuntimeWarning:\n",
      "\n",
      "invalid value encountered in true_divide\n",
      "\n"
     ]
    },
    {
     "name": "stdout",
     "output_type": "stream",
     "text": [
      "10    1\n",
      "45    1\n",
      "29    1\n",
      "58    2\n",
      "46    1\n",
      "     ..\n",
      "91    2\n",
      "19    1\n",
      "38    1\n",
      "71    2\n",
      "85    2\n",
      "Name: fid, Length: 88, dtype: int64\n",
      "Filtro 1\n",
      "10     True\n",
      "45     True\n",
      "29     True\n",
      "58    False\n",
      "46     True\n",
      "      ...  \n",
      "91    False\n",
      "19     True\n",
      "38     True\n",
      "71    False\n",
      "85    False\n",
      "Name: fid, Length: 88, dtype: bool\n",
      "88\n",
      "dimensiones (4, 4, 10)\n",
      "--------------------------------------------------\n",
      "Filtro 2\n",
      "10    False\n",
      "45    False\n",
      "29    False\n",
      "58     True\n",
      "46    False\n",
      "      ...  \n",
      "91     True\n",
      "19    False\n",
      "38    False\n",
      "71     True\n",
      "85     True\n",
      "Name: fid, Length: 88, dtype: bool\n",
      "88\n",
      "dimensiones (4, 4, 10)\n",
      "--------------------------------------------------\n",
      "Filtro 3\n",
      "10    False\n",
      "45    False\n",
      "29    False\n",
      "58    False\n",
      "46    False\n",
      "      ...  \n",
      "91    False\n",
      "19    False\n",
      "38    False\n",
      "71    False\n",
      "85    False\n",
      "Name: fid, Length: 88, dtype: bool\n",
      "88\n",
      "dimensiones (4, 4, 10)\n",
      "--------------------------------------------------\n",
      "dimensiones total (3, 4, 4, 10)\n",
      "tiempo de ejecucion por evento: 0.47344840000005206\n",
      "----------------------------------------------------------------------------------------------------\n",
      "n:3 - oid:ZTF17aaafyya\n",
      "270    1\n",
      "205    1\n",
      "170    1\n",
      "217    1\n",
      "111    1\n",
      "      ..\n",
      "263    1\n",
      "392    2\n",
      "108    1\n",
      "109    1\n",
      "128    1\n",
      "Name: fid, Length: 375, dtype: int64\n",
      "Filtro 1\n",
      "270     True\n",
      "205     True\n",
      "170     True\n",
      "217     True\n",
      "111     True\n",
      "       ...  \n",
      "263     True\n",
      "392    False\n",
      "108     True\n",
      "109     True\n",
      "128     True\n",
      "Name: fid, Length: 375, dtype: bool\n",
      "375\n",
      "dimensiones (4, 4, 10)\n",
      "--------------------------------------------------\n",
      "Filtro 2\n",
      "270    False\n",
      "205    False\n",
      "170    False\n",
      "217    False\n",
      "111    False\n",
      "       ...  \n",
      "263    False\n",
      "392     True\n",
      "108    False\n",
      "109    False\n",
      "128    False\n",
      "Name: fid, Length: 375, dtype: bool\n",
      "375\n",
      "dimensiones (4, 4, 10)\n",
      "--------------------------------------------------\n",
      "Filtro 3\n",
      "270    False\n",
      "205    False\n",
      "170    False\n",
      "217    False\n",
      "111    False\n",
      "       ...  \n",
      "263    False\n",
      "392    False\n",
      "108    False\n",
      "109    False\n",
      "128    False\n",
      "Name: fid, Length: 375, dtype: bool\n",
      "375\n",
      "dimensiones (4, 4, 10)\n",
      "--------------------------------------------------\n",
      "dimensiones total (3, 4, 4, 10)\n",
      "tiempo de ejecucion por evento: 0.48531309999998484\n",
      "----------------------------------------------------------------------------------------------------\n",
      "n:4 - oid:ZTF17aaageae\n",
      "617    2\n",
      "675    2\n",
      "610    2\n",
      "683    2\n",
      "670    2\n",
      "      ..\n",
      "517    1\n",
      "597    1\n",
      "579    1\n",
      "594    1\n",
      "624    2\n",
      "Name: fid, Length: 217, dtype: int64\n",
      "Filtro 1\n",
      "617    False\n",
      "675    False\n",
      "610    False\n",
      "683    False\n",
      "670    False\n",
      "       ...  \n",
      "517     True\n",
      "597     True\n",
      "579     True\n",
      "594     True\n",
      "624    False\n",
      "Name: fid, Length: 217, dtype: bool\n",
      "217\n",
      "dimensiones (4, 4, 10)\n",
      "--------------------------------------------------\n",
      "Filtro 2\n",
      "617     True\n",
      "675     True\n",
      "610     True\n",
      "683     True\n",
      "670     True\n",
      "       ...  \n",
      "517    False\n",
      "597    False\n",
      "579    False\n",
      "594    False\n",
      "624     True\n",
      "Name: fid, Length: 217, dtype: bool\n",
      "217\n",
      "dimensiones (4, 4, 10)\n",
      "--------------------------------------------------\n",
      "Filtro 3\n",
      "617    False\n",
      "675    False\n",
      "610    False\n",
      "683    False\n",
      "670    False\n",
      "       ...  \n",
      "517    False\n",
      "597    False\n",
      "579    False\n",
      "594    False\n",
      "624    False\n",
      "Name: fid, Length: 217, dtype: bool\n",
      "217\n",
      "dimensiones (4, 4, 10)\n",
      "--------------------------------------------------\n",
      "dimensiones total (3, 4, 4, 10)\n",
      "tiempo de ejecucion por evento: 0.4686411999991833\n",
      "----------------------------------------------------------------------------------------------------\n",
      "----------------------------------------------------------------------------------------------------\n",
      "tiempo de ejecucion total: 2.3583711000010226\n",
      "promedio de tiempo de ejecucion por evento 0.48292129999992117\n",
      "----------------------------------------------------------------------------------------------------\n"
     ]
    }
   ],
   "source": [
    "# tiempo de ejecucion del algoritmo \n",
    "start_analyze = default_timer()\n",
    "\n",
    "for index, event in enumerate(all_event):\n",
    "  # inicio - tiempo de ejecucion del analisis de cada evento\n",
    "  start_time_event = default_timer()\n",
    "  print(f'n:{index} - oid:{event}')\n",
    "  fig = go.Figure()\n",
    "\n",
    "\n",
    "  # extrae todas las magnitudes asociadas al evento y las ordena por tiempo (mjd)\n",
    "  light_curve = data.loc[data['oid'] == event].sort_values(by=['mjd'])\n",
    "  # mtcolor = [['g','green'],['r','red'],['b','blue']]\n",
    "\n",
    "  print(light_curve['fid'])\n",
    "\n",
    "\n",
    "  # graficar serie de tiempo con link a sitio de ALeRCE\n",
    "  for band in light_curve['fid'].unique():\n",
    "    GraphicLightCurve(fig,band,light_curve,False)\n",
    "\n",
    "  \n",
    "  # tensor que reune todos los filtros\n",
    "  tensor_all_filter = []\n",
    "  \n",
    "  # nfid = numero del filter id (banda) = 1,green / 2,red\n",
    "  for nfid in range(1,4):\n",
    "    # type_filter = lambda nfid: 'Green' if nfid == 1 else 'Red'\n",
    "    print('Filtro',nfid)\n",
    "    idx_banda = light_curve['fid'] == nfid\n",
    "    print(idx_banda)\n",
    "\n",
    "    print(len(idx_banda))\n",
    "\n",
    "    mjd_min = light_curve.mjd.values.min()\n",
    "\n",
    "    tiempoNormalizado = (light_curve.mjd.values - mjd_min) / (light_curve.mjd.values.max() - mjd_min)\n",
    "    # print('tiempoNormalizado\\n',tiempoNormalizado)\n",
    "    tensor = np.array(variantion_period_v2(array_periods, tiempoNormalizado[idx_banda], light_curve.magpsf_corr[idx_banda].values, nbines))\n",
    "    tensor_all_filter.append(tensor)\n",
    "    print(f'dimensiones {tensor.shape}')\n",
    "    # print(f'Tensor {index}: \\n{tensor}')\n",
    "    print('-'*50)\n",
    "\n",
    "\n",
    "  # asignar formato de tensor y muestralo\n",
    "  tensor_all_filter = np.array(tensor_all_filter)\n",
    "  print(f'dimensiones total {tensor_all_filter.shape}')\n",
    "  # print(f'Tensor total {index}: \\n{tensor_all_filter}')\n",
    "\n",
    "  # fin\n",
    "  end_time_event = default_timer()\n",
    "\n",
    "  # obtener el tiempo de ejecucion\n",
    "  time_method_event = end_time_event - start_time_event\n",
    "  # agrego el tiempo de ejecicion al arreglo para obtener el promedio general\n",
    "  all_time_event.append(time_method_event)\n",
    "\n",
    "  print(f'tiempo de ejecucion por evento: {time_method_event}')\n",
    "  print('-'*100)\n",
    "\n",
    "  if (index == limit - 1):\n",
    "    break\n",
    "\n",
    "\n",
    "end_analyze = default_timer()\n",
    "time_method_analyze = end_analyze - start_analyze\n",
    "print('-'*100)\n",
    "print(f'tiempo de ejecucion total: {time_method_analyze}')\n",
    "print(f'promedio de tiempo de ejecucion por evento',np.mean(all_time_event))\n",
    "print('-'*100)\n",
    "\n"
   ]
  }
 ],
 "metadata": {
  "colab": {
   "collapsed_sections": [],
   "provenance": [],
   "toc_visible": true
  },
  "kernelspec": {
   "display_name": "Python 3.10.5 64-bit (system)",
   "language": "python",
   "name": "python3"
  },
  "language_info": {
   "codemirror_mode": {
    "name": "ipython",
    "version": 3
   },
   "file_extension": ".py",
   "mimetype": "text/x-python",
   "name": "python",
   "nbconvert_exporter": "python",
   "pygments_lexer": "ipython3",
   "version": "3.10.5"
  },
  "vscode": {
   "interpreter": {
    "hash": "83bb221b5bcbd2aba6455ca0f73685620ce83e56f7cd125917180bbb45ca5986"
   }
  }
 },
 "nbformat": 4,
 "nbformat_minor": 1
}
