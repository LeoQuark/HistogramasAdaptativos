{
 "cells": [
  {
   "cell_type": "code",
   "execution_count": 1,
   "metadata": {
    "colab": {
     "base_uri": "https://localhost:8080/"
    },
    "executionInfo": {
     "elapsed": 2375,
     "status": "ok",
     "timestamp": 1666402823820,
     "user": {
      "displayName": "Leonardo Peña Fuentes",
      "userId": "17673853898068524362"
     },
     "user_tz": 180
    },
    "id": "hHEhsdLgdsGD",
    "outputId": "1b951ca8-5c1e-4f94-f6a6-de449435731e"
   },
   "outputs": [
    {
     "name": "stdout",
     "output_type": "stream",
     "text": [
      "numpy \t--> version 1.22.4\n",
      "pyarrow --> version 9.0.0\n",
      "plotly \t--> version 5.10.0\n",
      "astropy --> version 5.1\n"
     ]
    }
   ],
   "source": [
    "import numpy as np\n",
    "import pandas as pd\n",
    "import pyarrow.parquet as pq\n",
    "import plotly.graph_objects as go\n",
    "import matplotlib.pylab as plt\n",
    "from astropy.time import Time\n",
    "from time import time\n",
    "\n",
    "\n",
    "from multiprocessing import Process\n",
    "import os\n",
    "\n",
    "# print(f\"{np.__name__} --> version {np.__version__}\")\n",
    "# print(f\"{pa.__name__} --> version {pa.__version__}\")\n",
    "!python -c \"import numpy as xx; print(f'{xx.__name__} \\t--> version {xx.__version__}')\"\n",
    "!python -c \"import pyarrow as xx; print(f'{xx.__name__} --> version {xx.__version__}')\"\n",
    "!python -c \"import plotly as xx; print(f'{xx.__name__} \\t--> version {xx.__version__}')\"\n",
    "!python -c \"import astropy as xx; print(f'{xx.__name__} --> version {xx.__version__}')\"\n"
   ]
  },
  {
   "cell_type": "code",
   "execution_count": 9,
   "metadata": {
    "colab": {
     "base_uri": "https://localhost:8080/"
    },
    "executionInfo": {
     "elapsed": 19981,
     "status": "ok",
     "timestamp": 1666402851437,
     "user": {
      "displayName": "Leonardo Peña Fuentes",
      "userId": "17673853898068524362"
     },
     "user_tz": 180
    },
    "id": "ktsl8OcIhP0m",
    "outputId": "afa75147-741f-4423-becf-d7fca86fca01"
   },
   "outputs": [
    {
     "ename": "ModuleNotFoundError",
     "evalue": "No module named 'google.colab'",
     "output_type": "error",
     "traceback": [
      "\u001b[1;31m---------------------------------------------------------------------------\u001b[0m",
      "\u001b[1;31mModuleNotFoundError\u001b[0m                       Traceback (most recent call last)",
      "\u001b[1;32mc:\\Users\\Leonardo Peña\\Documents\\Github\\HistogramasAdaptativos\\Light curve with adaptative histograms.ipynb Celda 3\u001b[0m in \u001b[0;36m<cell line: 1>\u001b[1;34m()\u001b[0m\n\u001b[1;32m----> <a href='vscode-notebook-cell:/c%3A/Users/Leonardo%20Pe%C3%B1a/Documents/Github/HistogramasAdaptativos/Light%20curve%20with%20adaptative%20histograms.ipynb#W2sZmlsZQ%3D%3D?line=0'>1</a>\u001b[0m \u001b[39mfrom\u001b[39;00m \u001b[39mgoogle\u001b[39;00m\u001b[39m.\u001b[39;00m\u001b[39mcolab\u001b[39;00m \u001b[39mimport\u001b[39;00m drive\n\u001b[0;32m      <a href='vscode-notebook-cell:/c%3A/Users/Leonardo%20Pe%C3%B1a/Documents/Github/HistogramasAdaptativos/Light%20curve%20with%20adaptative%20histograms.ipynb#W2sZmlsZQ%3D%3D?line=1'>2</a>\u001b[0m drive\u001b[39m.\u001b[39mmount(\u001b[39m'\u001b[39m\u001b[39m/content/drive\u001b[39m\u001b[39m'\u001b[39m)\n\u001b[0;32m      <a href='vscode-notebook-cell:/c%3A/Users/Leonardo%20Pe%C3%B1a/Documents/Github/HistogramasAdaptativos/Light%20curve%20with%20adaptative%20histograms.ipynb#W2sZmlsZQ%3D%3D?line=2'>3</a>\u001b[0m get_ipython()\u001b[39m.\u001b[39mrun_line_magic(\u001b[39m'\u001b[39m\u001b[39mcd\u001b[39m\u001b[39m'\u001b[39m, \u001b[39m'\u001b[39m\u001b[39m/content/drive/MyDrive/Universidad/Trabajo de Titulo/Modelos ML curvas de luz\u001b[39m\u001b[39m'\u001b[39m)\n",
      "\u001b[1;31mModuleNotFoundError\u001b[0m: No module named 'google.colab'"
     ]
    }
   ],
   "source": [
    "from google.colab import drive\n",
    "drive.mount('/content/drive')\n",
    "%cd /content/drive/MyDrive/Universidad/Trabajo de Titulo/Modelos ML curvas de luz\n",
    "\n",
    "# %cd /content/drive/MyDrive/Universidad/Trabajo de Titulo/Modelos ML curvas de luz#Aca va tu ruta del archivo en tu drive"
   ]
  },
  {
   "cell_type": "code",
   "execution_count": 2,
   "metadata": {},
   "outputs": [],
   "source": [
    "def getStatistic(index,indBin,magnitud, amount_bins):\n",
    "    #Analisis en base a la magnitud\n",
    "    mag_ordered = magnitud[index]\n",
    "    \n",
    "    #Obtención de vectores con caracteristicas estadisticas\n",
    "    vector_mean = np.array([np.nanmean(mag_ordered[indBin==(i+1)])  if (indBin==(i+1)).sum()>0 else -1000  for i in range(amount_bins)])\n",
    "    vector_max = np.array([np.nanmax(mag_ordered[indBin==(i+1)])  if (indBin==(i+1)).sum()>0 else -1000 for i in range(amount_bins)])\n",
    "    vector_min = np.array([np.nanmin(mag_ordered[indBin==(i+1)])  if (indBin==(i+1)).sum()>0 else -1000 for i in range(amount_bins)])\n",
    "    vector_std = np.array([np.nanstd(mag_ordered[indBin==(i+1)])  if (indBin==(i+1)).sum()>0 else -1000 for i in range(amount_bins)])\n",
    "\n",
    "    return [vector_mean,vector_max,vector_min,vector_std]\n",
    "\n",
    "    \n",
    "\n",
    "def drawGraphic(bins,time,mag,indice,period):\n",
    "    title_figure = f'Folded Time Serie with period T/{period}'\n",
    "    #Grafico para ver la serie de tiempo \n",
    "    plt.figure(figsize=(12,4))\n",
    "    plt.plot(time[indice], mag[indice])\n",
    "    plt.scatter(time[indice], mag[indice])\n",
    "    plt.ylabel(\"Magnitud\")\n",
    "    plt.xlabel(\"Time\")\n",
    "    plt.suptitle(title_figure, fontsize=22)\n",
    "    plt.grid(axis='x', color='red', linestyle='-', linewidth=2)\n",
    "\n",
    "    for bin in bins:\n",
    "        plt.axvline(x=bin,color='red')\n",
    "    # plt.grid(axis='y', color='gray', linestyle='dashed')\n",
    "    plt.show()\n",
    "\n",
    "\n",
    "def variantion_period_v2(array_periods,ts_time, ts_mag, amount_bins=10):\n",
    "    tensor_data = []\n",
    "    for period in array_periods:\n",
    "        #valor del periodo en decimales\n",
    "        period_float = 1 / period\n",
    "        #proceso de folding\n",
    "        folded_time = ts_time % period_float\n",
    "        # print('folded_time',folded_time)\n",
    "\n",
    "        #indices de los datos para encontrarlos luego del folding\n",
    "        index_folded = np.argsort(folded_time)\n",
    "        # print('index_folded',index_folded)\n",
    "\n",
    "        #Divido el periodo en bins o intervalos [0,n] para luego obtener datos estadisticos de cada bin\n",
    "        bins = np.linspace(0,period_float,amount_bins+1)\n",
    "        #Concentración de datos en cada bin\n",
    "        concentration, bin_edges= np.histogram(folded_time[index_folded],bins=bins)\n",
    "        #indices - Devuelve los índices de los bins a los que pertenece cada valor del folded_time\n",
    "        index_bin = np.digitize(folded_time[index_folded],bins=bins)\n",
    "\n",
    "        # print(\"bins: \",bins)\n",
    "        # print(\"concentracion de datos en cada bin: \",concentration)\n",
    "        #Obtención de datos estadisticos de cada bin y formación del tensor\n",
    "        vectorStatisticPeriod = np.asmatrix(getStatistic(index_folded,index_bin,ts_mag,amount_bins))\n",
    "        tensor_data.append(vectorStatisticPeriod)\n",
    "\n",
    "    return tensor_data\n",
    "\n",
    "# funcion para graficar la serie de tiempo con link al sitio web de ALeRCE del evento\n",
    "def GraphicLightCurve(fig,band,light_curve,show):\n",
    "    mtcolor = [['g','green'],['r','red'],['b','blue']]\n",
    "    idx=(light_curve['fid']==band).values\n",
    "    fig.add_trace(\n",
    "            go.Scatter(\n",
    "                x = light_curve.mjd.values[idx],\n",
    "                y = light_curve.magpsf_corr.values[idx],\n",
    "                mode = 'markers', name=mtcolor[band-1][0],\n",
    "                marker_color = mtcolor[band-1][1],\n",
    "                error_y = dict(type='data', array=light_curve.sigmapsf_corr.values[idx], visible=True),\n",
    "                marker = dict(size=10, opacity=0.5, showscale=False, line=dict(width=1)), \n",
    "                showlegend = True,\n",
    "                legendgroup = mtcolor[band-1][0],\n",
    "                hovertemplate ='<b>' + mtcolor[band-1][0] + ':\\t\\t</b>' + light_curve.magpsf_corr[idx].map('{:.3f}'.format).apply(str) + ' ± ' +\n",
    "                                light_curve.sigmapsf_corr[idx].map('{:.3f}'.format).apply(str)  + '<br>' + \n",
    "                                '<b>MJD:\\t</b>'+ light_curve.mjd[idx].apply(str)  + '<br>' + \n",
    "                                '<b>Date:\\t</b>'+ [temp.strftime('%a, %d %b %Y %H:%M:%S UTC') for temp in Time(light_curve.mjd[idx].values, format='mjd').datetime]+ '<br>' +\n",
    "                                '<extra></extra>'\n",
    "                ))\n",
    "    # fig['layout']['yaxis']['autorange'] = \"reversed\"\n",
    "    fig.update_xaxes(\n",
    "        tickangle=0,\n",
    "        title_text=\"Modified Julian Dates [MJD]\",\n",
    "        title_font={\"size\": 14})\n",
    "    \n",
    "    fig.update_yaxes(\n",
    "        autorange= 'reversed',\n",
    "        tickangle=0,\n",
    "        title_text=\"Magnitude [Mag]\",\n",
    "        title_font={\"size\": 14})\n",
    "    \n",
    "    fig.update_layout(\n",
    "        title={'text':'<b>Light Curve</b>' + '<br>' +\n",
    "                        '<a href=\"https://alerce.online/object/'+ event + '\">Object: ' + event + 'text</a>',\n",
    "                'font':dict(size=14),'x':0.5, 'y':0.9,'xanchor': 'center','yanchor': 'top'})\n",
    "    \n",
    "    if_show_fig = lambda show: fig.show() if show == True else False\n",
    "    if_show_fig(show)\n"
   ]
  },
  {
   "cell_type": "code",
   "execution_count": 5,
   "metadata": {
    "colab": {
     "base_uri": "https://localhost:8080/"
    },
    "executionInfo": {
     "elapsed": 545,
     "status": "ok",
     "timestamp": 1666402945378,
     "user": {
      "displayName": "Leonardo Peña Fuentes",
      "userId": "17673853898068524362"
     },
     "user_tz": 180
    },
    "id": "k8aUNkpmeBm_",
    "outputId": "65daf0df-7eda-4565-c5e8-9f7fda286369"
   },
   "outputs": [
    {
     "name": "stdout",
     "output_type": "stream",
     "text": [
      "numero de columnas: 113\n",
      "numero de filas (datos):  13844917\n"
     ]
    },
    {
     "data": {
      "text/html": [
       "<div>\n",
       "<style scoped>\n",
       "    .dataframe tbody tr th:only-of-type {\n",
       "        vertical-align: middle;\n",
       "    }\n",
       "\n",
       "    .dataframe tbody tr th {\n",
       "        vertical-align: top;\n",
       "    }\n",
       "\n",
       "    .dataframe thead th {\n",
       "        text-align: right;\n",
       "    }\n",
       "</style>\n",
       "<table border=\"1\" class=\"dataframe\">\n",
       "  <thead>\n",
       "    <tr style=\"text-align: right;\">\n",
       "      <th></th>\n",
       "      <th>oid</th>\n",
       "      <th>fid</th>\n",
       "      <th>mjd</th>\n",
       "      <th>magpsf_corr</th>\n",
       "      <th>sigmapsf_corr</th>\n",
       "      <th>classALeRCE</th>\n",
       "    </tr>\n",
       "  </thead>\n",
       "  <tbody>\n",
       "    <tr>\n",
       "      <th>0</th>\n",
       "      <td>ZTF17aaacfxu</td>\n",
       "      <td>1</td>\n",
       "      <td>58863.138021</td>\n",
       "      <td>20.996371</td>\n",
       "      <td>0.444790</td>\n",
       "      <td>RRL</td>\n",
       "    </tr>\n",
       "    <tr>\n",
       "      <th>1</th>\n",
       "      <td>ZTF17aaacfxu</td>\n",
       "      <td>1</td>\n",
       "      <td>58867.179803</td>\n",
       "      <td>19.374605</td>\n",
       "      <td>0.175861</td>\n",
       "      <td>RRL</td>\n",
       "    </tr>\n",
       "    <tr>\n",
       "      <th>2</th>\n",
       "      <td>ZTF17aaacfxu</td>\n",
       "      <td>1</td>\n",
       "      <td>58871.170336</td>\n",
       "      <td>19.630466</td>\n",
       "      <td>0.123111</td>\n",
       "      <td>RRL</td>\n",
       "    </tr>\n",
       "    <tr>\n",
       "      <th>3</th>\n",
       "      <td>ZTF17aaacfxu</td>\n",
       "      <td>1</td>\n",
       "      <td>58880.146204</td>\n",
       "      <td>19.362001</td>\n",
       "      <td>0.103466</td>\n",
       "      <td>RRL</td>\n",
       "    </tr>\n",
       "    <tr>\n",
       "      <th>4</th>\n",
       "      <td>ZTF17aaacfxu</td>\n",
       "      <td>1</td>\n",
       "      <td>58849.131389</td>\n",
       "      <td>19.530453</td>\n",
       "      <td>0.078387</td>\n",
       "      <td>RRL</td>\n",
       "    </tr>\n",
       "  </tbody>\n",
       "</table>\n",
       "</div>"
      ],
      "text/plain": [
       "            oid  fid           mjd  magpsf_corr  sigmapsf_corr classALeRCE\n",
       "0  ZTF17aaacfxu    1  58863.138021    20.996371       0.444790         RRL\n",
       "1  ZTF17aaacfxu    1  58867.179803    19.374605       0.175861         RRL\n",
       "2  ZTF17aaacfxu    1  58871.170336    19.630466       0.123111         RRL\n",
       "3  ZTF17aaacfxu    1  58880.146204    19.362001       0.103466         RRL\n",
       "4  ZTF17aaacfxu    1  58849.131389    19.530453       0.078387         RRL"
      ]
     },
     "execution_count": 5,
     "metadata": {},
     "output_type": "execute_result"
    }
   ],
   "source": [
    "parquet_file = pq.ParquetFile('../lightcurves_ts.parquet')\n",
    "# parquet_file.schema_arrow.names # obtienes nombre columnas\n",
    "# parquet_file.metadata.num_rows # numero de filas\n",
    "# parquet_file.metadata.num_columns # nummero de columnas \n",
    "\n",
    "print(\"numero de columnas:\", parquet_file.metadata.num_columns)\n",
    "print(\"numero de filas (datos): \", parquet_file.metadata.num_rows)\n",
    "# print(\"nombre columnas: \", parquet_file.schema_arrow.names)\n",
    "\n",
    "data.head()"
   ]
  },
  {
   "cell_type": "code",
   "execution_count": 6,
   "metadata": {
    "executionInfo": {
     "elapsed": 4586,
     "status": "ok",
     "timestamp": 1666402996046,
     "user": {
      "displayName": "Leonardo Peña Fuentes",
      "userId": "17673853898068524362"
     },
     "user_tz": 180
    },
    "id": "_ai_zMDwimgj"
   },
   "outputs": [],
   "source": [
    "# Descipcion de las columnas\n",
    "# oid -- object id\n",
    "# fid -- filter id, filtro o banda utilizada (verde,rojo,azul,etc)\n",
    "# mjd -- medida de tiempo continua (Modified Julian date / Calendario Juliano Modificado)\n",
    "# magpsf_corr -- magnitud psf correjida / posicion en el espacio, es el promedio de los pixeles de una deteccion\n",
    "# sigmapsf_corr -- variacion de los pixeles de una deteccion\n",
    "# classALeRCE - clasificación que realiza ALeRCE en base a los parametros obtenidos (152 aprox) con el random forest de 2 niveles\n",
    "\n",
    "# se divide el paquete en grupos --> se ocupa el primer grupo 0\n",
    "data = parquet_file.read_row_group(0, ['oid', 'fid', 'mjd', 'magpsf_corr', 'sigmapsf_corr', 'classALeRCE']).to_pandas()"
   ]
  },
  {
   "cell_type": "code",
   "execution_count": 7,
   "metadata": {
    "colab": {
     "base_uri": "https://localhost:8080/"
    },
    "executionInfo": {
     "elapsed": 2497,
     "status": "ok",
     "timestamp": 1666403041100,
     "user": {
      "displayName": "Leonardo Peña Fuentes",
      "userId": "17673853898068524362"
     },
     "user_tz": 180
    },
    "id": "VEibj7Ele09j",
    "outputId": "ee26bfaf-d4c7-40c7-d956-a9e457f63d86"
   },
   "outputs": [
    {
     "name": "stdout",
     "output_type": "stream",
     "text": [
      "eventos totales (173693,)\n"
     ]
    }
   ],
   "source": [
    "# muestra los eventos unicos, sin repeticiones\n",
    "all_event = data.oid.unique()\n",
    "\n",
    "print('eventos totales',all_event.shape)"
   ]
  },
  {
   "cell_type": "code",
   "execution_count": 8,
   "metadata": {},
   "outputs": [
    {
     "name": "stdout",
     "output_type": "stream",
     "text": [
      "13697564\n"
     ]
    },
    {
     "data": {
      "text/html": [
       "<div>\n",
       "<style scoped>\n",
       "    .dataframe tbody tr th:only-of-type {\n",
       "        vertical-align: middle;\n",
       "    }\n",
       "\n",
       "    .dataframe tbody tr th {\n",
       "        vertical-align: top;\n",
       "    }\n",
       "\n",
       "    .dataframe thead th {\n",
       "        text-align: right;\n",
       "    }\n",
       "</style>\n",
       "<table border=\"1\" class=\"dataframe\">\n",
       "  <thead>\n",
       "    <tr style=\"text-align: right;\">\n",
       "      <th></th>\n",
       "      <th>oid</th>\n",
       "      <th>fid</th>\n",
       "      <th>mjd</th>\n",
       "      <th>magpsf_corr</th>\n",
       "      <th>sigmapsf_corr</th>\n",
       "      <th>classALeRCE</th>\n",
       "    </tr>\n",
       "  </thead>\n",
       "  <tbody>\n",
       "    <tr>\n",
       "      <th>0</th>\n",
       "      <td>ZTF17aaacfxu</td>\n",
       "      <td>1</td>\n",
       "      <td>58863.138021</td>\n",
       "      <td>20.996371</td>\n",
       "      <td>0.444790</td>\n",
       "      <td>RRL</td>\n",
       "    </tr>\n",
       "    <tr>\n",
       "      <th>1</th>\n",
       "      <td>ZTF17aaacfxu</td>\n",
       "      <td>1</td>\n",
       "      <td>58867.179803</td>\n",
       "      <td>19.374605</td>\n",
       "      <td>0.175861</td>\n",
       "      <td>RRL</td>\n",
       "    </tr>\n",
       "    <tr>\n",
       "      <th>2</th>\n",
       "      <td>ZTF17aaacfxu</td>\n",
       "      <td>1</td>\n",
       "      <td>58871.170336</td>\n",
       "      <td>19.630466</td>\n",
       "      <td>0.123111</td>\n",
       "      <td>RRL</td>\n",
       "    </tr>\n",
       "    <tr>\n",
       "      <th>3</th>\n",
       "      <td>ZTF17aaacfxu</td>\n",
       "      <td>1</td>\n",
       "      <td>58880.146204</td>\n",
       "      <td>19.362001</td>\n",
       "      <td>0.103466</td>\n",
       "      <td>RRL</td>\n",
       "    </tr>\n",
       "    <tr>\n",
       "      <th>4</th>\n",
       "      <td>ZTF17aaacfxu</td>\n",
       "      <td>1</td>\n",
       "      <td>58849.131389</td>\n",
       "      <td>19.530453</td>\n",
       "      <td>0.078387</td>\n",
       "      <td>RRL</td>\n",
       "    </tr>\n",
       "  </tbody>\n",
       "</table>\n",
       "</div>"
      ],
      "text/plain": [
       "            oid  fid           mjd  magpsf_corr  sigmapsf_corr classALeRCE\n",
       "0  ZTF17aaacfxu    1  58863.138021    20.996371       0.444790         RRL\n",
       "1  ZTF17aaacfxu    1  58867.179803    19.374605       0.175861         RRL\n",
       "2  ZTF17aaacfxu    1  58871.170336    19.630466       0.123111         RRL\n",
       "3  ZTF17aaacfxu    1  58880.146204    19.362001       0.103466         RRL\n",
       "4  ZTF17aaacfxu    1  58849.131389    19.530453       0.078387         RRL"
      ]
     },
     "execution_count": 8,
     "metadata": {},
     "output_type": "execute_result"
    }
   ],
   "source": [
    "# limpieza de datos \n",
    "df_data = data.replace([np.inf, -np.inf], np.nan)\n",
    "df_data = df_data.dropna()\n",
    "df_data.head()\n",
    "\n",
    "\n",
    "print(df_data['classALeRCE'].values.size)\n",
    "df_data.head()"
   ]
  },
  {
   "cell_type": "markdown",
   "metadata": {},
   "source": [
    "Preprocesamiento"
   ]
  },
  {
   "cell_type": "code",
   "execution_count": null,
   "metadata": {},
   "outputs": [],
   "source": [
    "df_data_unique = df_data.oid.unique()\n",
    "limit = 10\n",
    "i = 0\n",
    "all_time_serie = []\n",
    "\n",
    "time_test = time()\n",
    "\n",
    "for index, name_event in enumerate(df_data_unique):\n",
    "    event = df_data.loc[df_data['oid'] == name_event].sort_values(by=['mjd'])\n",
    "    rows_event, cols_event = event.shape\n",
    "\n",
    "    if(rows_event == 1):\n",
    "        continue\n",
    "\n",
    "    all_time_serie.append(event)\n",
    "    # print(event)\n",
    "    # print('-'*100)\n",
    "\n",
    "    i = i + 1\n",
    "\n",
    "    if i == limit:\n",
    "        break\n",
    "time_end = time() - time_test\n",
    "\n",
    "print(f'time: {time_end}')\n",
    "print(len(all_time_serie))\n",
    "print(all_time_serie)\n"
   ]
  },
  {
   "cell_type": "code",
   "execution_count": 18,
   "metadata": {},
   "outputs": [
    {
     "name": "stdout",
     "output_type": "stream",
     "text": [
      "<class 'list'>\n",
      "             oid  fid           mjd  magpsf_corr  sigmapsf_corr classALeRCE\n",
      "10  ZTF17aaaemke    1  58372.401910    16.530643       0.014738       EB/EW\n",
      "45  ZTF17aaaemke    1  58388.324433    16.681208     100.000000       EB/EW\n",
      "29  ZTF17aaaemke    1  58390.353206    16.589474       0.008474       EB/EW\n",
      "58  ZTF17aaaemke    2  58431.186701    15.361944     100.000000       EB/EW\n",
      "46  ZTF17aaaemke    1  58431.211875    16.109080     100.000000       EB/EW\n",
      "..           ...  ...           ...          ...            ...         ...\n",
      "91  ZTF17aaaemke    2  59086.370671    15.648146     100.000000       EB/EW\n",
      "19  ZTF17aaaemke    1  59089.360498    16.539287     100.000000       EB/EW\n",
      "38  ZTF17aaaemke    1  59089.375637    16.567873       0.008123       EB/EW\n",
      "71  ZTF17aaaemke    2  59098.335984    15.675239     100.000000       EB/EW\n",
      "85  ZTF17aaaemke    2  59107.311562    15.695976     100.000000       EB/EW\n",
      "\n",
      "[88 rows x 6 columns]\n"
     ]
    }
   ],
   "source": [
    "print(type(all_time_serie))\n",
    "print(all_time_serie)"
   ]
  },
  {
   "cell_type": "code",
   "execution_count": 16,
   "metadata": {},
   "outputs": [
    {
     "ename": "TypeError",
     "evalue": "Object of type DataFrame is not JSON serializable",
     "output_type": "error",
     "traceback": [
      "\u001b[1;31m---------------------------------------------------------------------------\u001b[0m",
      "\u001b[1;31mTypeError\u001b[0m                                 Traceback (most recent call last)",
      "\u001b[1;32mc:\\Users\\Leonardo Peña\\Documents\\Github\\HistogramasAdaptativos\\experimento 3.ipynb Celda 11\u001b[0m in \u001b[0;36m<cell line: 10>\u001b[1;34m()\u001b[0m\n\u001b[0;32m      <a href='vscode-notebook-cell:/c%3A/Users/Leonardo%20Pe%C3%B1a/Documents/Github/HistogramasAdaptativos/experimento%203.ipynb#X20sZmlsZQ%3D%3D?line=6'>7</a>\u001b[0m             \u001b[39mreturn\u001b[39;00m obj\u001b[39m.\u001b[39mtolist()\n\u001b[0;32m      <a href='vscode-notebook-cell:/c%3A/Users/Leonardo%20Pe%C3%B1a/Documents/Github/HistogramasAdaptativos/experimento%203.ipynb#X20sZmlsZQ%3D%3D?line=7'>8</a>\u001b[0m         \u001b[39mreturn\u001b[39;00m JSONEncoder\u001b[39m.\u001b[39mdefault(\u001b[39mself\u001b[39m, obj)\n\u001b[1;32m---> <a href='vscode-notebook-cell:/c%3A/Users/Leonardo%20Pe%C3%B1a/Documents/Github/HistogramasAdaptativos/experimento%203.ipynb#X20sZmlsZQ%3D%3D?line=9'>10</a>\u001b[0m output \u001b[39m=\u001b[39m json\u001b[39m.\u001b[39;49mdumps(all_time_serie)\n\u001b[0;32m     <a href='vscode-notebook-cell:/c%3A/Users/Leonardo%20Pe%C3%B1a/Documents/Github/HistogramasAdaptativos/experimento%203.ipynb#X20sZmlsZQ%3D%3D?line=11'>12</a>\u001b[0m \u001b[39mwith\u001b[39;00m \u001b[39mopen\u001b[39m(\u001b[39m'\u001b[39m\u001b[39mtest.json\u001b[39m\u001b[39m'\u001b[39m, \u001b[39m'\u001b[39m\u001b[39mw\u001b[39m\u001b[39m'\u001b[39m) \u001b[39mas\u001b[39;00m outfile:\n\u001b[0;32m     <a href='vscode-notebook-cell:/c%3A/Users/Leonardo%20Pe%C3%B1a/Documents/Github/HistogramasAdaptativos/experimento%203.ipynb#X20sZmlsZQ%3D%3D?line=12'>13</a>\u001b[0m     outfile\u001b[39m.\u001b[39mwrite(output)\n",
      "File \u001b[1;32mc:\\Users\\Leonardo Peña\\AppData\\Local\\Programs\\Python\\Python310\\lib\\json\\__init__.py:231\u001b[0m, in \u001b[0;36mdumps\u001b[1;34m(obj, skipkeys, ensure_ascii, check_circular, allow_nan, cls, indent, separators, default, sort_keys, **kw)\u001b[0m\n\u001b[0;32m    226\u001b[0m \u001b[39m# cached encoder\u001b[39;00m\n\u001b[0;32m    227\u001b[0m \u001b[39mif\u001b[39;00m (\u001b[39mnot\u001b[39;00m skipkeys \u001b[39mand\u001b[39;00m ensure_ascii \u001b[39mand\u001b[39;00m\n\u001b[0;32m    228\u001b[0m     check_circular \u001b[39mand\u001b[39;00m allow_nan \u001b[39mand\u001b[39;00m\n\u001b[0;32m    229\u001b[0m     \u001b[39mcls\u001b[39m \u001b[39mis\u001b[39;00m \u001b[39mNone\u001b[39;00m \u001b[39mand\u001b[39;00m indent \u001b[39mis\u001b[39;00m \u001b[39mNone\u001b[39;00m \u001b[39mand\u001b[39;00m separators \u001b[39mis\u001b[39;00m \u001b[39mNone\u001b[39;00m \u001b[39mand\u001b[39;00m\n\u001b[0;32m    230\u001b[0m     default \u001b[39mis\u001b[39;00m \u001b[39mNone\u001b[39;00m \u001b[39mand\u001b[39;00m \u001b[39mnot\u001b[39;00m sort_keys \u001b[39mand\u001b[39;00m \u001b[39mnot\u001b[39;00m kw):\n\u001b[1;32m--> 231\u001b[0m     \u001b[39mreturn\u001b[39;00m _default_encoder\u001b[39m.\u001b[39;49mencode(obj)\n\u001b[0;32m    232\u001b[0m \u001b[39mif\u001b[39;00m \u001b[39mcls\u001b[39m \u001b[39mis\u001b[39;00m \u001b[39mNone\u001b[39;00m:\n\u001b[0;32m    233\u001b[0m     \u001b[39mcls\u001b[39m \u001b[39m=\u001b[39m JSONEncoder\n",
      "File \u001b[1;32mc:\\Users\\Leonardo Peña\\AppData\\Local\\Programs\\Python\\Python310\\lib\\json\\encoder.py:199\u001b[0m, in \u001b[0;36mJSONEncoder.encode\u001b[1;34m(self, o)\u001b[0m\n\u001b[0;32m    195\u001b[0m         \u001b[39mreturn\u001b[39;00m encode_basestring(o)\n\u001b[0;32m    196\u001b[0m \u001b[39m# This doesn't pass the iterator directly to ''.join() because the\u001b[39;00m\n\u001b[0;32m    197\u001b[0m \u001b[39m# exceptions aren't as detailed.  The list call should be roughly\u001b[39;00m\n\u001b[0;32m    198\u001b[0m \u001b[39m# equivalent to the PySequence_Fast that ''.join() would do.\u001b[39;00m\n\u001b[1;32m--> 199\u001b[0m chunks \u001b[39m=\u001b[39m \u001b[39mself\u001b[39;49m\u001b[39m.\u001b[39;49miterencode(o, _one_shot\u001b[39m=\u001b[39;49m\u001b[39mTrue\u001b[39;49;00m)\n\u001b[0;32m    200\u001b[0m \u001b[39mif\u001b[39;00m \u001b[39mnot\u001b[39;00m \u001b[39misinstance\u001b[39m(chunks, (\u001b[39mlist\u001b[39m, \u001b[39mtuple\u001b[39m)):\n\u001b[0;32m    201\u001b[0m     chunks \u001b[39m=\u001b[39m \u001b[39mlist\u001b[39m(chunks)\n",
      "File \u001b[1;32mc:\\Users\\Leonardo Peña\\AppData\\Local\\Programs\\Python\\Python310\\lib\\json\\encoder.py:257\u001b[0m, in \u001b[0;36mJSONEncoder.iterencode\u001b[1;34m(self, o, _one_shot)\u001b[0m\n\u001b[0;32m    252\u001b[0m \u001b[39melse\u001b[39;00m:\n\u001b[0;32m    253\u001b[0m     _iterencode \u001b[39m=\u001b[39m _make_iterencode(\n\u001b[0;32m    254\u001b[0m         markers, \u001b[39mself\u001b[39m\u001b[39m.\u001b[39mdefault, _encoder, \u001b[39mself\u001b[39m\u001b[39m.\u001b[39mindent, floatstr,\n\u001b[0;32m    255\u001b[0m         \u001b[39mself\u001b[39m\u001b[39m.\u001b[39mkey_separator, \u001b[39mself\u001b[39m\u001b[39m.\u001b[39mitem_separator, \u001b[39mself\u001b[39m\u001b[39m.\u001b[39msort_keys,\n\u001b[0;32m    256\u001b[0m         \u001b[39mself\u001b[39m\u001b[39m.\u001b[39mskipkeys, _one_shot)\n\u001b[1;32m--> 257\u001b[0m \u001b[39mreturn\u001b[39;00m _iterencode(o, \u001b[39m0\u001b[39;49m)\n",
      "File \u001b[1;32mc:\\Users\\Leonardo Peña\\AppData\\Local\\Programs\\Python\\Python310\\lib\\json\\encoder.py:179\u001b[0m, in \u001b[0;36mJSONEncoder.default\u001b[1;34m(self, o)\u001b[0m\n\u001b[0;32m    160\u001b[0m \u001b[39mdef\u001b[39;00m \u001b[39mdefault\u001b[39m(\u001b[39mself\u001b[39m, o):\n\u001b[0;32m    161\u001b[0m     \u001b[39m\"\"\"Implement this method in a subclass such that it returns\u001b[39;00m\n\u001b[0;32m    162\u001b[0m \u001b[39m    a serializable object for ``o``, or calls the base implementation\u001b[39;00m\n\u001b[0;32m    163\u001b[0m \u001b[39m    (to raise a ``TypeError``).\u001b[39;00m\n\u001b[1;32m   (...)\u001b[0m\n\u001b[0;32m    177\u001b[0m \n\u001b[0;32m    178\u001b[0m \u001b[39m    \"\"\"\u001b[39;00m\n\u001b[1;32m--> 179\u001b[0m     \u001b[39mraise\u001b[39;00m \u001b[39mTypeError\u001b[39;00m(\u001b[39mf\u001b[39m\u001b[39m'\u001b[39m\u001b[39mObject of type \u001b[39m\u001b[39m{\u001b[39;00mo\u001b[39m.\u001b[39m\u001b[39m__class__\u001b[39m\u001b[39m.\u001b[39m\u001b[39m__name__\u001b[39m\u001b[39m}\u001b[39;00m\u001b[39m \u001b[39m\u001b[39m'\u001b[39m\n\u001b[0;32m    180\u001b[0m                     \u001b[39mf\u001b[39m\u001b[39m'\u001b[39m\u001b[39mis not JSON serializable\u001b[39m\u001b[39m'\u001b[39m)\n",
      "\u001b[1;31mTypeError\u001b[0m: Object of type DataFrame is not JSON serializable"
     ]
    }
   ],
   "source": [
    "\n",
    "\n",
    "import json\n",
    "from json import JSONEncoder\n",
    "\n",
    "class NumpyArrayEncoder(JSONEncoder):\n",
    "    def default(self, obj):\n",
    "        if isinstance(obj, np.ndarray):\n",
    "            return obj.tolist()\n",
    "        return JSONEncoder.default(self, obj)\n",
    "\n",
    "output = json.dumps(all_time_serie)\n",
    "\n",
    "with open('test.json', 'w') as outfile:\n",
    "    outfile.write(output)\n"
   ]
  },
  {
   "cell_type": "markdown",
   "metadata": {},
   "source": [
    "Extraccion de caracteristicas y obtencion de tensor"
   ]
  },
  {
   "cell_type": "code",
   "execution_count": 10,
   "metadata": {},
   "outputs": [
    {
     "name": "stdout",
     "output_type": "stream",
     "text": [
      "----------------------------------------------------------------------------------------------------\n",
      "Time total: 0.11767077445983887\n",
      "Total event: 10\n",
      "Tiempo promedio por cada evento: 0.011667156219482422\n"
     ]
    }
   ],
   "source": [
    "# ----------------------------\n",
    "limit_event = 10\n",
    "num_periods = 4\n",
    "nbines = 10\n",
    "array_periods = 2**(np.arange(num_periods)+0)\n",
    "\n",
    "tensor_all_event = {}\n",
    "time_arr = []\n",
    "# ----------------------------\n",
    "\n",
    "main_start = time()\n",
    "\n",
    "for index, event in enumerate(all_time_serie):\n",
    "    event_start = time()\n",
    "    # obtiene el nombre del evento\n",
    "    name_unique = event.oid.unique()\n",
    "    tensor_band = {}\n",
    "\n",
    "    for band_fid in range(1,4):\n",
    "        event_band = event.loc[event['fid'] == band_fid].sort_values(by=['mjd'])\n",
    "        \n",
    "        if(event_band.empty is False):\n",
    "            rows, cols = event_band.shape\n",
    "\n",
    "            if(rows == 1):\n",
    "                break\n",
    "\n",
    "            # normalized\n",
    "            min_mjd = event_band['mjd'].values.min()\n",
    "            max_mjd = event_band['mjd'].values.max()\n",
    "            time_normalized = (event_band['mjd'].values - min_mjd)/(max_mjd - min_mjd)\n",
    "\n",
    "            # tensor con caracteristicas de cada filtro\n",
    "            tensor = np.array(variantion_period_v2(array_periods, time_normalized, event_band['magpsf_corr'].values, nbines))\n",
    "            # tensor de cada banda\n",
    "            tensor_band[f'Filter {band_fid}'] = tensor\n",
    "        else:\n",
    "            break\n",
    "    \n",
    "    # asigna el tensor de cada filtro al evento\n",
    "    tensor_all_event[f'{name_unique[0]}'] = tensor_band\n",
    "    event_time = time() - event_start\n",
    "    time_arr.append(event_time)\n",
    "\n",
    "    if index == limit_event:\n",
    "        break\n",
    "\n",
    "print('-'*100)\n",
    "main_time = time() - main_start\n",
    "print(f'Time total: {main_time}')\n",
    "print(f'Total event: {limit_event}')\n",
    "\n",
    "print(f'Tiempo promedio por cada evento: {np.mean(time_arr)}')\n",
    "# print(dict_all_tensor)\n",
    "\n"
   ]
  },
  {
   "cell_type": "code",
   "execution_count": 30,
   "metadata": {},
   "outputs": [],
   "source": [
    "import json\n",
    "from json import JSONEncoder\n",
    "\n",
    "class NumpyArrayEncoder(JSONEncoder):\n",
    "    def default(self, obj):\n",
    "        if isinstance(obj, np.ndarray):\n",
    "            return obj.tolist()\n",
    "        return JSONEncoder.default(self, obj)\n",
    "\n",
    "output = json.dumps(tensor_all_event, cls=NumpyArrayEncoder)\n",
    "\n",
    "with open('group0.json', 'w') as outfile:\n",
    "    outfile.write(output)\n"
   ]
  },
  {
   "cell_type": "markdown",
   "metadata": {},
   "source": [
    "fin test"
   ]
  }
 ],
 "metadata": {
  "colab": {
   "collapsed_sections": [],
   "provenance": [],
   "toc_visible": true
  },
  "kernelspec": {
   "display_name": "Python 3 (ipykernel)",
   "language": "python",
   "name": "python3"
  },
  "language_info": {
   "codemirror_mode": {
    "name": "ipython",
    "version": 3
   },
   "file_extension": ".py",
   "mimetype": "text/x-python",
   "name": "python",
   "nbconvert_exporter": "python",
   "pygments_lexer": "ipython3",
   "version": "3.10.5"
  },
  "vscode": {
   "interpreter": {
    "hash": "83bb221b5bcbd2aba6455ca0f73685620ce83e56f7cd125917180bbb45ca5986"
   }
  }
 },
 "nbformat": 4,
 "nbformat_minor": 1
}
